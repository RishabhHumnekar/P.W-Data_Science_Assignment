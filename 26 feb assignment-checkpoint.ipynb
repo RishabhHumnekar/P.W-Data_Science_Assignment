{
 "cells": [
  {
   "cell_type": "code",
   "execution_count": 41,
   "id": "0d56082b",
   "metadata": {},
   "outputs": [],
   "source": [
    "import numpy as np\n",
    "list_ =[\"1\",\"2\",\"3\",\"4\",\"5\"]\n",
    "array_list = np.array(object = list_)"
   ]
  },
  {
   "cell_type": "code",
   "execution_count": 42,
   "id": "4d1d6850",
   "metadata": {},
   "outputs": [],
   "source": [
    "# Q1. Is there any difference in the data type of variables list_ and array_list? If there is then write a code\n",
    "# to print the data types of both the variables."
   ]
  },
  {
   "cell_type": "code",
   "execution_count": 43,
   "id": "f10d15e8",
   "metadata": {},
   "outputs": [],
   "source": [
    "# Yes there is difference in the data type of variables list_ and array_list"
   ]
  },
  {
   "cell_type": "code",
   "execution_count": 44,
   "id": "7583a445",
   "metadata": {},
   "outputs": [
    {
     "data": {
      "text/plain": [
       "['1', '2', '3', '4', '5']"
      ]
     },
     "execution_count": 44,
     "metadata": {},
     "output_type": "execute_result"
    }
   ],
   "source": [
    "list_"
   ]
  },
  {
   "cell_type": "code",
   "execution_count": 45,
   "id": "f1742a31",
   "metadata": {},
   "outputs": [
    {
     "data": {
      "text/plain": [
       "array(['1', '2', '3', '4', '5'], dtype='<U1')"
      ]
     },
     "execution_count": 45,
     "metadata": {},
     "output_type": "execute_result"
    }
   ],
   "source": [
    "array_list"
   ]
  },
  {
   "cell_type": "code",
   "execution_count": 46,
   "id": "283fcb74",
   "metadata": {},
   "outputs": [
    {
     "data": {
      "text/plain": [
       "list"
      ]
     },
     "execution_count": 46,
     "metadata": {},
     "output_type": "execute_result"
    }
   ],
   "source": [
    "type(list_)"
   ]
  },
  {
   "cell_type": "code",
   "execution_count": 47,
   "id": "781a9f18",
   "metadata": {},
   "outputs": [
    {
     "data": {
      "text/plain": [
       "numpy.ndarray"
      ]
     },
     "execution_count": 47,
     "metadata": {},
     "output_type": "execute_result"
    }
   ],
   "source": [
    "type(array_list)"
   ]
  },
  {
   "cell_type": "code",
   "execution_count": 48,
   "id": "7946044c",
   "metadata": {},
   "outputs": [],
   "source": [
    "# Q2. Write a code to print the data type of each and every element of both the variables list_ and\n",
    "# array_list."
   ]
  },
  {
   "cell_type": "code",
   "execution_count": 49,
   "id": "6f274461",
   "metadata": {},
   "outputs": [
    {
     "name": "stdout",
     "output_type": "stream",
     "text": [
      "Element value : 1, datatype = <class 'str'>\n",
      "Element value : 2, datatype = <class 'str'>\n",
      "Element value : 3, datatype = <class 'str'>\n",
      "Element value : 4, datatype = <class 'str'>\n",
      "Element value : 5, datatype = <class 'str'>\n"
     ]
    }
   ],
   "source": [
    "for i in list_ :\n",
    "    print(f'Element value : {i}, datatype = {type(i)}')"
   ]
  },
  {
   "cell_type": "code",
   "execution_count": 50,
   "id": "f730de03",
   "metadata": {},
   "outputs": [
    {
     "name": "stdout",
     "output_type": "stream",
     "text": [
      "Element value : 1, datatype = <class 'numpy.str_'>\n",
      "Element value : 2, datatype = <class 'numpy.str_'>\n",
      "Element value : 3, datatype = <class 'numpy.str_'>\n",
      "Element value : 4, datatype = <class 'numpy.str_'>\n",
      "Element value : 5, datatype = <class 'numpy.str_'>\n"
     ]
    }
   ],
   "source": [
    "for i in array_list :\n",
    "    print(f'Element value : {i}, datatype = {type(i)}')"
   ]
  },
  {
   "cell_type": "code",
   "execution_count": 51,
   "id": "09425758",
   "metadata": {},
   "outputs": [],
   "source": [
    "# Q3. Considering the following changes in the variable, array_list:\n",
    "# array_list = np.array(object = list_, dtype = int)\n",
    "# Will there be any difference in the data type of the elements present in both the variables, list_ and\n",
    "# arra_list? If so then print the data types of each and every element present in both the variables, list_\n",
    "# and arra_list."
   ]
  },
  {
   "cell_type": "code",
   "execution_count": 52,
   "id": "862e0fd6",
   "metadata": {},
   "outputs": [],
   "source": [
    "# yes there will be difference in the data type of the elements present in both the variables, list_ and\n",
    "# array_list"
   ]
  },
  {
   "cell_type": "code",
   "execution_count": 53,
   "id": "00b4a6b8",
   "metadata": {},
   "outputs": [
    {
     "data": {
      "text/plain": [
       "['1', '2', '3', '4', '5']"
      ]
     },
     "execution_count": 53,
     "metadata": {},
     "output_type": "execute_result"
    }
   ],
   "source": [
    "list_"
   ]
  },
  {
   "cell_type": "code",
   "execution_count": 9,
   "id": "ca97588b",
   "metadata": {},
   "outputs": [],
   "source": [
    "array_list = np.array(object = list_, dtype = int)"
   ]
  },
  {
   "cell_type": "code",
   "execution_count": 10,
   "id": "fcc66e2d",
   "metadata": {},
   "outputs": [
    {
     "data": {
      "text/plain": [
       "array([1, 2, 3, 4, 5])"
      ]
     },
     "execution_count": 10,
     "metadata": {},
     "output_type": "execute_result"
    }
   ],
   "source": [
    "array_list"
   ]
  },
  {
   "cell_type": "code",
   "execution_count": 36,
   "id": "5ec50899",
   "metadata": {},
   "outputs": [
    {
     "name": "stdout",
     "output_type": "stream",
     "text": [
      "Element value : 1, datatype = <class 'str'>\n",
      "Element value : 2, datatype = <class 'str'>\n",
      "Element value : 3, datatype = <class 'str'>\n",
      "Element value : 4, datatype = <class 'str'>\n",
      "Element value : 5, datatype = <class 'str'>\n"
     ]
    }
   ],
   "source": [
    "for i in list_ :\n",
    "    print(f'Element value : {i}, datatype = {type(i)}')"
   ]
  },
  {
   "cell_type": "code",
   "execution_count": 37,
   "id": "f234986f",
   "metadata": {},
   "outputs": [
    {
     "name": "stdout",
     "output_type": "stream",
     "text": [
      "Element value : 1, datatype = <class 'numpy.int32'>\n",
      "Element value : 2, datatype = <class 'numpy.int32'>\n",
      "Element value : 3, datatype = <class 'numpy.int32'>\n",
      "Element value : 4, datatype = <class 'numpy.int32'>\n",
      "Element value : 5, datatype = <class 'numpy.int32'>\n"
     ]
    }
   ],
   "source": [
    "for i in array_list :\n",
    "    print(f'Element value : {i}, datatype = {type(i)}')"
   ]
  },
  {
   "cell_type": "code",
   "execution_count": 17,
   "id": "43e675f0",
   "metadata": {},
   "outputs": [],
   "source": [
    "# Q4. Write a code to find the following characteristics of variable, num_array:\n",
    "# (i) shape\n",
    "# (ii) size"
   ]
  },
  {
   "cell_type": "code",
   "execution_count": 24,
   "id": "53393fa6",
   "metadata": {},
   "outputs": [
    {
     "data": {
      "text/plain": [
       "array([[1, 2, 3],\n",
       "       [4, 5, 6]])"
      ]
     },
     "execution_count": 24,
     "metadata": {},
     "output_type": "execute_result"
    }
   ],
   "source": [
    "num_array"
   ]
  },
  {
   "cell_type": "code",
   "execution_count": 18,
   "id": "1de1c44c",
   "metadata": {},
   "outputs": [
    {
     "data": {
      "text/plain": [
       "(2, 3)"
      ]
     },
     "execution_count": 18,
     "metadata": {},
     "output_type": "execute_result"
    }
   ],
   "source": [
    "num_array.shape"
   ]
  },
  {
   "cell_type": "code",
   "execution_count": 19,
   "id": "df4874f4",
   "metadata": {},
   "outputs": [
    {
     "data": {
      "text/plain": [
       "6"
      ]
     },
     "execution_count": 19,
     "metadata": {},
     "output_type": "execute_result"
    }
   ],
   "source": [
    "num_array.size"
   ]
  },
  {
   "cell_type": "code",
   "execution_count": 20,
   "id": "972609a1",
   "metadata": {},
   "outputs": [],
   "source": [
    "# Q5. Write a code to create numpy array of 3*3 matrix containing zeros only, using a numpy array\n",
    "# creation function.\n",
    "# [Hint: The size of the array will be 9 and the shape will be (3,3).]"
   ]
  },
  {
   "cell_type": "code",
   "execution_count": 21,
   "id": "5eea9760",
   "metadata": {},
   "outputs": [
    {
     "data": {
      "text/plain": [
       "array([[0., 0., 0.],\n",
       "       [0., 0., 0.],\n",
       "       [0., 0., 0.]])"
      ]
     },
     "execution_count": 21,
     "metadata": {},
     "output_type": "execute_result"
    }
   ],
   "source": [
    "np.zeros((3,3))"
   ]
  },
  {
   "cell_type": "code",
   "execution_count": 22,
   "id": "302c53e3",
   "metadata": {},
   "outputs": [],
   "source": [
    "#Q6. Create an identity matrix of shape (5,5) using numpy functions?"
   ]
  },
  {
   "cell_type": "code",
   "execution_count": 23,
   "id": "966c8bb2",
   "metadata": {},
   "outputs": [
    {
     "data": {
      "text/plain": [
       "array([[1., 0., 0., 0., 0.],\n",
       "       [0., 1., 0., 0., 0.],\n",
       "       [0., 0., 1., 0., 0.],\n",
       "       [0., 0., 0., 1., 0.],\n",
       "       [0., 0., 0., 0., 1.]])"
      ]
     },
     "execution_count": 23,
     "metadata": {},
     "output_type": "execute_result"
    }
   ],
   "source": [
    "np.eye(5,5)"
   ]
  },
  {
   "cell_type": "code",
   "execution_count": null,
   "id": "d9b24e96",
   "metadata": {},
   "outputs": [],
   "source": []
  }
 ],
 "metadata": {
  "kernelspec": {
   "display_name": "Python 3 (ipykernel)",
   "language": "python",
   "name": "python3"
  },
  "language_info": {
   "codemirror_mode": {
    "name": "ipython",
    "version": 3
   },
   "file_extension": ".py",
   "mimetype": "text/x-python",
   "name": "python",
   "nbconvert_exporter": "python",
   "pygments_lexer": "ipython3",
   "version": "3.10.4"
  }
 },
 "nbformat": 4,
 "nbformat_minor": 5
}
